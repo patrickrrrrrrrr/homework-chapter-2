{
 "cells": [
  {
   "cell_type": "code",
   "execution_count": 1,
   "metadata": {},
   "outputs": [
    {
     "data": {
      "text/plain": [
       "8"
      ]
     },
     "execution_count": 1,
     "metadata": {},
     "output_type": "execute_result"
    }
   ],
   "source": [
    "s1='春眠不覺曉, 處處聞啼鳥, 夜來風雨聲, 花落知多少。'\n",
    "s1.rfind('處')"
   ]
  },
  {
   "cell_type": "code",
   "execution_count": 2,
   "metadata": {},
   "outputs": [
    {
     "name": "stdout",
     "output_type": "stream",
     "text": [
      "True\n"
     ]
    }
   ],
   "source": [
    "s1='春眠不覺曉, 處處聞啼鳥, 夜來風雨聲, 花落知多少。'\n",
    "print(s1.startswith('春眠'))"
   ]
  },
  {
   "cell_type": "code",
   "execution_count": 3,
   "metadata": {},
   "outputs": [
    {
     "name": "stdout",
     "output_type": "stream",
     "text": [
      "True\n"
     ]
    }
   ],
   "source": [
    "s1='春眠不覺曉, 處處聞啼鳥, 夜來風雨聲, 花落知多少。'\n",
    "print(s1.endswith('多少。'))"
   ]
  },
  {
   "cell_type": "code",
   "execution_count": 4,
   "metadata": {},
   "outputs": [
    {
     "name": "stdout",
     "output_type": "stream",
     "text": [
      "2\n"
     ]
    }
   ],
   "source": [
    "s1='春眠不覺曉, 處處聞啼鳥, 夜來風雨聲, 花落知多少。'\n",
    "print(s1.count('處'))"
   ]
  },
  {
   "cell_type": "code",
   "execution_count": 5,
   "metadata": {},
   "outputs": [
    {
     "name": "stdout",
     "output_type": "stream",
     "text": [
      "     春眠不覺曉\n"
     ]
    }
   ],
   "source": [
    "s1='春眠不覺曉'\n",
    "print(s1.rjust(10))"
   ]
  },
  {
   "cell_type": "code",
   "execution_count": 6,
   "metadata": {},
   "outputs": [
    {
     "name": "stdout",
     "output_type": "stream",
     "text": [
      "春眠不覺曉     \n"
     ]
    }
   ],
   "source": [
    "s1='春眠不覺曉'\n",
    "print(s1.ljust(10))"
   ]
  },
  {
   "cell_type": "code",
   "execution_count": 7,
   "metadata": {},
   "outputs": [
    {
     "name": "stdout",
     "output_type": "stream",
     "text": [
      "  春眠不覺曉   \n"
     ]
    }
   ],
   "source": [
    "s1='春眠不覺曉'\n",
    "print(s1.center(10))"
   ]
  },
  {
   "cell_type": "code",
   "execution_count": 9,
   "metadata": {},
   "outputs": [
    {
     "name": "stdout",
     "output_type": "stream",
     "text": [
      "An apple a day\n"
     ]
    }
   ],
   "source": [
    "s1='An apple a day'\n",
    "print(s1.capitalize())"
   ]
  },
  {
   "cell_type": "code",
   "execution_count": 10,
   "metadata": {},
   "outputs": [
    {
     "name": "stdout",
     "output_type": "stream",
     "text": [
      "An Apple A Day\n"
     ]
    }
   ],
   "source": [
    "s1='An apple a day'\n",
    "print(s1.title())"
   ]
  },
  {
   "cell_type": "code",
   "execution_count": 11,
   "metadata": {},
   "outputs": [
    {
     "name": "stdout",
     "output_type": "stream",
     "text": [
      "aN APPLE A DAY\n"
     ]
    }
   ],
   "source": [
    "s1='An apple a day'\n",
    "print(s1.swapcase())"
   ]
  },
  {
   "cell_type": "code",
   "execution_count": 12,
   "metadata": {},
   "outputs": [
    {
     "name": "stdout",
     "output_type": "stream",
     "text": [
      "AN APPLE A DAY\n"
     ]
    }
   ],
   "source": [
    "s1='An apple a day'\n",
    "print(s1.upper())"
   ]
  },
  {
   "cell_type": "code",
   "execution_count": 13,
   "metadata": {},
   "outputs": [
    {
     "name": "stdout",
     "output_type": "stream",
     "text": [
      "an apple a day\n"
     ]
    }
   ],
   "source": [
    "s1='An apple a day'\n",
    "print(s1.lower())"
   ]
  },
  {
   "cell_type": "code",
   "execution_count": 14,
   "metadata": {},
   "outputs": [
    {
     "name": "stdout",
     "output_type": "stream",
     "text": [
      "00123\n"
     ]
    }
   ],
   "source": [
    "s1='123'\n",
    "print(s1.zfill(5))"
   ]
  },
  {
   "cell_type": "code",
   "execution_count": 20,
   "metadata": {},
   "outputs": [
    {
     "name": "stdout",
     "output_type": "stream",
     "text": [
      "hello,mary.\n"
     ]
    }
   ],
   "source": [
    "s1='hello,mary.'\n",
    "print(s1.strip())"
   ]
  },
  {
   "cell_type": "code",
   "execution_count": 21,
   "metadata": {},
   "outputs": [
    {
     "name": "stdout",
     "output_type": "stream",
     "text": [
      "ello,mary.\n"
     ]
    }
   ],
   "source": [
    "s1='hello,mary.'\n",
    "print(s1.lstrip('h'))"
   ]
  },
  {
   "cell_type": "code",
   "execution_count": 22,
   "metadata": {},
   "outputs": [
    {
     "name": "stdout",
     "output_type": "stream",
     "text": [
      "hello,mary\n"
     ]
    }
   ],
   "source": [
    "s1='hello,mary.'\n",
    "print(s1.rstrip('.'))"
   ]
  },
  {
   "cell_type": "code",
   "execution_count": 23,
   "metadata": {},
   "outputs": [
    {
     "name": "stdout",
     "output_type": "stream",
     "text": [
      "請輸入上衣數量?2\n",
      "請輸入褲子數量?3\n",
      "請輸入背心數量?1\n",
      "訂購服裝的總金額為 2050\n"
     ]
    }
   ],
   "source": [
    "上衣=int(input('請輸入上衣數量?'))\n",
    "褲子=int(input('請輸入褲子數量?'))\n",
    "背心=int(input('請輸入背心數量?'))\n",
    "總金額=上衣*300+褲子*350+背心*400\n",
    "print('訂購服裝的總金額為',總金額)"
   ]
  },
  {
   "cell_type": "code",
   "execution_count": 26,
   "metadata": {},
   "outputs": [
    {
     "name": "stdout",
     "output_type": "stream",
     "text": [
      "請輸入半徑?10\n",
      "圓周長為 62.8318 圓面積為 314.159\n"
     ]
    }
   ],
   "source": [
    "半徑=float(input('請輸入半徑?'))\n",
    "PL=3.14159\n",
    "圓周長=2*PL*半徑\n",
    "圓面積=半徑*半徑*PL\n",
    "print('圓周長為',圓周長,'圓面積為',圓面積)"
   ]
  },
  {
   "cell_type": "code",
   "execution_count": 27,
   "metadata": {},
   "outputs": [
    {
     "name": "stdout",
     "output_type": "stream",
     "text": [
      "請輸入攝氏溫度?50\n",
      "華氏溫度為 122.0\n"
     ]
    }
   ],
   "source": [
    "c=float(input('請輸入攝氏溫度?'))\n",
    "f=c*9/5+32\n",
    "print('華氏溫度為',f)"
   ]
  },
  {
   "cell_type": "code",
   "execution_count": 29,
   "metadata": {},
   "outputs": [
    {
     "name": "stdout",
     "output_type": "stream",
     "text": [
      "請輸入本金?1000\n",
      "請輸入年利率(%)?1.5\n",
      "第一年本利和為 1014.9999999999999\n",
      "第二年本利和為 1030.2249999999997\n",
      "第三年本利和為 1045.6783749999995\n"
     ]
    }
   ],
   "source": [
    "money=int(input('請輸入本金?'))\n",
    "interest=float(input('請輸入年利率(%)?'))\n",
    "y1=money*(1+interest/100)\n",
    "y2=money*((1+interest/100)**2)\n",
    "y3=money*((1+interest/100)**3)\n",
    "print('第一年本利和為',y1)\n",
    "print('第二年本利和為',y2)\n",
    "print('第三年本利和為',y3)"
   ]
  },
  {
   "cell_type": "code",
   "execution_count": 30,
   "metadata": {},
   "outputs": [
    {
     "name": "stdout",
     "output_type": "stream",
     "text": [
      "請輸入一個字串?abvba\n",
      "迴文判斷結果為 True\n"
     ]
    }
   ],
   "source": [
    "s=input('請輸入一個字串?')\n",
    "print('迴文判斷結果為',s==s[::-1])"
   ]
  },
  {
   "cell_type": "code",
   "execution_count": null,
   "metadata": {},
   "outputs": [],
   "source": []
  }
 ],
 "metadata": {
  "kernelspec": {
   "display_name": "Python 3",
   "language": "python",
   "name": "python3"
  },
  "language_info": {
   "codemirror_mode": {
    "name": "ipython",
    "version": 3
   },
   "file_extension": ".py",
   "mimetype": "text/x-python",
   "name": "python",
   "nbconvert_exporter": "python",
   "pygments_lexer": "ipython3",
   "version": "3.7.3"
  }
 },
 "nbformat": 4,
 "nbformat_minor": 2
}
