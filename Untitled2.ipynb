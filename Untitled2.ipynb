{
 "cells": [
  {
   "cell_type": "code",
   "execution_count": 1,
   "metadata": {},
   "outputs": [
    {
     "name": "stdout",
     "output_type": "stream",
     "text": [
      "作者\"孟浩然\"詩名\"春曉\"\n",
      "作者'孟浩然'詩名'春曉\n"
     ]
    }
   ],
   "source": [
    "s1 = '作者\"孟浩然\"詩名\"春曉\"'\n",
    "print(s1)\n",
    "s2 = \"作者'孟浩然'詩名'春曉\"\n",
    "print(s2)"
   ]
  },
  {
   "cell_type": "code",
   "execution_count": 2,
   "metadata": {},
   "outputs": [
    {
     "name": "stdout",
     "output_type": "stream",
     "text": [
      "春眠不覺曉，處處聞啼鳥。\n",
      "夜來風雨聲，花落知多少。\n",
      "作者\"孟浩然\"詩名\"春曉\"\n",
      "\n"
     ]
    }
   ],
   "source": [
    "s3='''春眠不覺曉，處處聞啼鳥。\n",
    "夜來風雨聲，花落知多少。\n",
    "作者\"孟浩然\"詩名\"春曉\"\n",
    "'''\n",
    "print(s3)"
   ]
  },
  {
   "cell_type": "code",
   "execution_count": 3,
   "metadata": {},
   "outputs": [
    {
     "name": "stdout",
     "output_type": "stream",
     "text": [
      "0123456789\n"
     ]
    }
   ],
   "source": [
    "s1='01234'\n",
    "s2='56789'\n",
    "s3=s1+s2\n",
    "print(s3)"
   ]
  },
  {
   "cell_type": "code",
   "execution_count": 4,
   "metadata": {},
   "outputs": [
    {
     "name": "stdout",
     "output_type": "stream",
     "text": [
      "0123401234\n"
     ]
    }
   ],
   "source": [
    "s1='01234'\n",
    "s2=s1*2\n",
    "print(s2)"
   ]
  },
  {
   "cell_type": "code",
   "execution_count": 5,
   "metadata": {},
   "outputs": [
    {
     "name": "stdout",
     "output_type": "stream",
     "text": [
      "0\n",
      "1\n",
      "9\n",
      "8\n"
     ]
    }
   ],
   "source": [
    "s1='0123456789'\n",
    "print(s1[0])\n",
    "print(s1[1])\n",
    "print(s1[-1])\n",
    "print(s1[-2])"
   ]
  },
  {
   "cell_type": "code",
   "execution_count": 6,
   "metadata": {},
   "outputs": [
    {
     "name": "stdout",
     "output_type": "stream",
     "text": [
      "s= 0123456789 s[:]= 0123456789\n",
      "s= 0123456789 s[5:]= 56789\n",
      "s= 0123456789 s[-2:]= 89\n",
      "s= 0123456789 s[5:]= 56789\n",
      "s= 0123456789 s[-2:]= 89\n",
      "s= 0123456789 s[7:9]= 78\n",
      "s= 0123456789 s[-4:-1]= 678\n",
      "s= 0123456789 s[5:-2]= 567\n",
      "s= 0123456789 s[2:10:2]= 2468\n",
      "s= 0123456789 s[::-1]= 9876543210\n",
      "s= 0123456789 s[-1::-1]= 9876543210\n"
     ]
    }
   ],
   "source": [
    "s='0123456789'\n",
    "print('s=',s,'s[:]=',s[:])\n",
    "print('s=',s,'s[5:]=',s[5:])\n",
    "print('s=',s,'s[-2:]=',s[-2:])\n",
    "print('s=',s,'s[5:]=',s[5:])\n",
    "print('s=',s,'s[-2:]=',s[-2:])\n",
    "print('s=',s,'s[7:9]=',s[7:9])\n",
    "print('s=',s,'s[-4:-1]=',s[-4:-1])\n",
    "print('s=',s,'s[5:-2]=',s[5:-2])\n",
    "print('s=',s,'s[2:10:2]=',s[2:10:2])\n",
    "print('s=',s,'s[::-1]=',s[::-1])\n",
    "print('s=',s,'s[-1::-1]=',s[-1::-1])\n"
   ]
  },
  {
   "cell_type": "code",
   "execution_count": 7,
   "metadata": {},
   "outputs": [
    {
     "name": "stdout",
     "output_type": "stream",
     "text": [
      "春眠不覺曉，處處聞啼鳥。\n",
      "夜來風雨聲，花落知多少。\n",
      "\t作者\"孟浩然\"詩名\"春曉\"\n"
     ]
    }
   ],
   "source": [
    "s='春眠不覺曉，處處聞啼鳥。\\n\\\n",
    "夜來風雨聲，花落知多少。\\n\\\n",
    "\\t作者\"孟浩然\"詩名\"春曉\"'\n",
    "\n",
    "print(s)"
   ]
  },
  {
   "cell_type": "code",
   "execution_count": 8,
   "metadata": {},
   "outputs": [
    {
     "name": "stdout",
     "output_type": "stream",
     "text": [
      "春眠不覺曉，處處聞啼鳥，夜來風雨聲，花落知多少。\n"
     ]
    }
   ],
   "source": [
    "list1=['春眠不覺曉', '處處聞啼鳥', '夜來風雨聲', '花落知多少。']\n",
    "s2='，'.join(list1)\n",
    "print(s2)"
   ]
  },
  {
   "cell_type": "code",
   "execution_count": 11,
   "metadata": {},
   "outputs": [
    {
     "name": "stdout",
     "output_type": "stream",
     "text": [
      "冬眠不覺曉, 處處聞啼鳥, 夜來風雨聲, 花落知多少。\n"
     ]
    }
   ],
   "source": [
    "s1='春眠不覺曉, 處處聞啼鳥, 夜來風雨聲, 花落知多少。'\n",
    "s3=s1.replace('春','冬')\n",
    "print(s3)"
   ]
  },
  {
   "cell_type": "code",
   "execution_count": 12,
   "metadata": {},
   "outputs": [
    {
     "name": "stdout",
     "output_type": "stream",
     "text": [
      "21\n"
     ]
    }
   ],
   "source": [
    "s1='春眠不覺曉, 處處聞啼鳥, 夜來風雨聲, 花落知多少。'\n",
    "print(s1.find('花落'))"
   ]
  },
  {
   "cell_type": "code",
   "execution_count": null,
   "metadata": {},
   "outputs": [],
   "source": []
  }
 ],
 "metadata": {
  "kernelspec": {
   "display_name": "Python 3",
   "language": "python",
   "name": "python3"
  },
  "language_info": {
   "codemirror_mode": {
    "name": "ipython",
    "version": 3
   },
   "file_extension": ".py",
   "mimetype": "text/x-python",
   "name": "python",
   "nbconvert_exporter": "python",
   "pygments_lexer": "ipython3",
   "version": "3.7.3"
  }
 },
 "nbformat": 4,
 "nbformat_minor": 2
}
